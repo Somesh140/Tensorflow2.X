{
  "nbformat": 4,
  "nbformat_minor": 0,
  "metadata": {
    "colab": {
      "provenance": [],
      "authorship_tag": "ABX9TyPZEwSjnKZciiozCiGvSMGw",
      "include_colab_link": true
    },
    "kernelspec": {
      "name": "python3",
      "display_name": "Python 3"
    },
    "language_info": {
      "name": "python"
    }
  },
  "cells": [
    {
      "cell_type": "markdown",
      "metadata": {
        "id": "view-in-github",
        "colab_type": "text"
      },
      "source": [
        "<a href=\"https://colab.research.google.com/github/Somesh140/Tensorflow2.X/blob/main/Tensorflow_practice.ipynb\" target=\"_parent\"><img src=\"https://colab.research.google.com/assets/colab-badge.svg\" alt=\"Open In Colab\"/></a>"
      ]
    },
    {
      "cell_type": "code",
      "execution_count": 3,
      "metadata": {
        "id": "0utZVlgmK1wO"
      },
      "outputs": [],
      "source": [
        "import tensorflow as tf"
      ]
    },
    {
      "cell_type": "code",
      "source": [
        "tf.__version__"
      ],
      "metadata": {
        "colab": {
          "base_uri": "https://localhost:8080/",
          "height": 36
        },
        "id": "_ojhuHQcK9Mg",
        "outputId": "34d2e357-3b5b-4d50-f23b-834e1bf872fb"
      },
      "execution_count": 4,
      "outputs": [
        {
          "output_type": "execute_result",
          "data": {
            "text/plain": [
              "'2.12.0'"
            ],
            "application/vnd.google.colaboratory.intrinsic+json": {
              "type": "string"
            }
          },
          "metadata": {},
          "execution_count": 4
        }
      ]
    },
    {
      "cell_type": "markdown",
      "source": [
        "# Tensor constant\n",
        " multidimension al array"
      ],
      "metadata": {
        "id": "6vOOLJbPLD3f"
      }
    },
    {
      "cell_type": "code",
      "source": [
        "const=tf.constant(43)"
      ],
      "metadata": {
        "id": "MO3vqiCCK-mW"
      },
      "execution_count": 5,
      "outputs": []
    },
    {
      "cell_type": "code",
      "source": [
        "const"
      ],
      "metadata": {
        "colab": {
          "base_uri": "https://localhost:8080/"
        },
        "id": "eBGhm0TuLK7R",
        "outputId": "676c60c3-6d6d-49d6-e62e-7ae656054b41"
      },
      "execution_count": 6,
      "outputs": [
        {
          "output_type": "execute_result",
          "data": {
            "text/plain": [
              "<tf.Tensor: shape=(), dtype=int32, numpy=43>"
            ]
          },
          "metadata": {},
          "execution_count": 6
        }
      ]
    },
    {
      "cell_type": "code",
      "source": [
        "const.numpy()"
      ],
      "metadata": {
        "colab": {
          "base_uri": "https://localhost:8080/"
        },
        "id": "_ZjskFNhLLfN",
        "outputId": "8e525739-6a82-4478-abf7-f22d758ea4df"
      },
      "execution_count": 7,
      "outputs": [
        {
          "output_type": "execute_result",
          "data": {
            "text/plain": [
              "43"
            ]
          },
          "metadata": {},
          "execution_count": 7
        }
      ]
    },
    {
      "cell_type": "code",
      "source": [
        "const=tf.constant(43,dtype=tf.float32)"
      ],
      "metadata": {
        "id": "0UHTnv55LUPa"
      },
      "execution_count": 8,
      "outputs": []
    },
    {
      "cell_type": "code",
      "source": [
        "const.numpy()"
      ],
      "metadata": {
        "colab": {
          "base_uri": "https://localhost:8080/"
        },
        "id": "cREtqmgoMC0N",
        "outputId": "33639be2-9cf3-4ba6-8632-2b163636c499"
      },
      "execution_count": 9,
      "outputs": [
        {
          "output_type": "execute_result",
          "data": {
            "text/plain": [
              "43.0"
            ]
          },
          "metadata": {},
          "execution_count": 9
        }
      ]
    },
    {
      "cell_type": "code",
      "source": [
        "const_mat=tf.constant([[1,3],[4,5]],dtype=tf.float32)"
      ],
      "metadata": {
        "id": "_dyY6Hj6MEcw"
      },
      "execution_count": 10,
      "outputs": []
    },
    {
      "cell_type": "code",
      "source": [
        "const_mat"
      ],
      "metadata": {
        "colab": {
          "base_uri": "https://localhost:8080/"
        },
        "id": "nksvB09XMQIq",
        "outputId": "fb409356-e2e0-4178-e2b2-fa3788dbb084"
      },
      "execution_count": 11,
      "outputs": [
        {
          "output_type": "execute_result",
          "data": {
            "text/plain": [
              "<tf.Tensor: shape=(2, 2), dtype=float32, numpy=\n",
              "array([[1., 3.],\n",
              "       [4., 5.]], dtype=float32)>"
            ]
          },
          "metadata": {},
          "execution_count": 11
        }
      ]
    },
    {
      "cell_type": "markdown",
      "source": [
        "# overall size model remains same before and after training"
      ],
      "metadata": {
        "id": "Y2dX5d5aMa6K"
      }
    },
    {
      "cell_type": "code",
      "source": [
        "const_mat.shape"
      ],
      "metadata": {
        "colab": {
          "base_uri": "https://localhost:8080/"
        },
        "id": "HWD5gaiLMQ86",
        "outputId": "11949fe4-7c07-49f2-ae54-5ee4ece2b287"
      },
      "execution_count": 12,
      "outputs": [
        {
          "output_type": "execute_result",
          "data": {
            "text/plain": [
              "TensorShape([2, 2])"
            ]
          },
          "metadata": {},
          "execution_count": 12
        }
      ]
    },
    {
      "cell_type": "code",
      "source": [
        "const_mat[0][0]"
      ],
      "metadata": {
        "colab": {
          "base_uri": "https://localhost:8080/"
        },
        "id": "I30LNrzQMrYT",
        "outputId": "b033065d-1c3b-4362-f73f-fe4d19db8e08"
      },
      "execution_count": 13,
      "outputs": [
        {
          "output_type": "execute_result",
          "data": {
            "text/plain": [
              "<tf.Tensor: shape=(), dtype=float32, numpy=1.0>"
            ]
          },
          "metadata": {},
          "execution_count": 13
        }
      ]
    },
    {
      "cell_type": "code",
      "source": [
        "const_mat[0][0]=32"
      ],
      "metadata": {
        "colab": {
          "base_uri": "https://localhost:8080/",
          "height": 169
        },
        "id": "HPatqBxPMvbC",
        "outputId": "a490db20-7611-4f58-882b-6950cd6af646"
      },
      "execution_count": 14,
      "outputs": [
        {
          "output_type": "error",
          "ename": "TypeError",
          "evalue": "ignored",
          "traceback": [
            "\u001b[0;31m---------------------------------------------------------------------------\u001b[0m",
            "\u001b[0;31mTypeError\u001b[0m                                 Traceback (most recent call last)",
            "\u001b[0;32m<ipython-input-14-08e10f1ebe9f>\u001b[0m in \u001b[0;36m<cell line: 1>\u001b[0;34m()\u001b[0m\n\u001b[0;32m----> 1\u001b[0;31m \u001b[0mconst_mat\u001b[0m\u001b[0;34m[\u001b[0m\u001b[0;36m0\u001b[0m\u001b[0;34m]\u001b[0m\u001b[0;34m[\u001b[0m\u001b[0;36m0\u001b[0m\u001b[0;34m]\u001b[0m\u001b[0;34m=\u001b[0m\u001b[0;36m32\u001b[0m\u001b[0;34m\u001b[0m\u001b[0;34m\u001b[0m\u001b[0m\n\u001b[0m",
            "\u001b[0;31mTypeError\u001b[0m: 'tensorflow.python.framework.ops.EagerTensor' object does not support item assignment"
          ]
        }
      ]
    },
    {
      "cell_type": "markdown",
      "source": [
        "#Commonly used method"
      ],
      "metadata": {
        "id": "ZNkVHoRqM34D"
      }
    },
    {
      "cell_type": "code",
      "source": [
        "tf.ones(shape=(2,3))"
      ],
      "metadata": {
        "colab": {
          "base_uri": "https://localhost:8080/"
        },
        "id": "4iOjpeFgM2fX",
        "outputId": "a7bc6b78-9971-48c6-9838-92beb57a7821"
      },
      "execution_count": 15,
      "outputs": [
        {
          "output_type": "execute_result",
          "data": {
            "text/plain": [
              "<tf.Tensor: shape=(2, 3), dtype=float32, numpy=\n",
              "array([[1., 1., 1.],\n",
              "       [1., 1., 1.]], dtype=float32)>"
            ]
          },
          "metadata": {},
          "execution_count": 15
        }
      ]
    },
    {
      "cell_type": "code",
      "source": [
        "-1*tf.ones(shape=(2,3))"
      ],
      "metadata": {
        "colab": {
          "base_uri": "https://localhost:8080/"
        },
        "id": "S4oyVeb-NAi9",
        "outputId": "ca2eff27-16ee-4c5d-f735-ed121804d980"
      },
      "execution_count": 16,
      "outputs": [
        {
          "output_type": "execute_result",
          "data": {
            "text/plain": [
              "<tf.Tensor: shape=(2, 3), dtype=float32, numpy=\n",
              "array([[-1., -1., -1.],\n",
              "       [-1., -1., -1.]], dtype=float32)>"
            ]
          },
          "metadata": {},
          "execution_count": 16
        }
      ]
    },
    {
      "cell_type": "code",
      "source": [
        "tf.zeros(shape=(2,4))"
      ],
      "metadata": {
        "colab": {
          "base_uri": "https://localhost:8080/"
        },
        "id": "BgcQfnOqNK4g",
        "outputId": "7dfaabb2-eaa4-4b2c-bcd2-797ee56ca473"
      },
      "execution_count": 17,
      "outputs": [
        {
          "output_type": "execute_result",
          "data": {
            "text/plain": [
              "<tf.Tensor: shape=(2, 4), dtype=float32, numpy=\n",
              "array([[0., 0., 0., 0.],\n",
              "       [0., 0., 0., 0.]], dtype=float32)>"
            ]
          },
          "metadata": {},
          "execution_count": 17
        }
      ]
    },
    {
      "cell_type": "markdown",
      "source": [
        "# add operations"
      ],
      "metadata": {
        "id": "5kZjUOzzRTa8"
      }
    },
    {
      "cell_type": "code",
      "source": [
        "const1= tf.constant([[1,2,3],[4,5,6]])\n",
        "const2= tf.constant([[2,5,3],[3,5,8]])"
      ],
      "metadata": {
        "id": "79BzOZE-NYVP"
      },
      "execution_count": 18,
      "outputs": []
    },
    {
      "cell_type": "code",
      "source": [
        "const1+const2"
      ],
      "metadata": {
        "colab": {
          "base_uri": "https://localhost:8080/"
        },
        "id": "f-wRbUdERgwI",
        "outputId": "d65dbe5c-d439-48f9-901f-901f646e39fb"
      },
      "execution_count": 19,
      "outputs": [
        {
          "output_type": "execute_result",
          "data": {
            "text/plain": [
              "<tf.Tensor: shape=(2, 3), dtype=int32, numpy=\n",
              "array([[ 3,  7,  6],\n",
              "       [ 7, 10, 14]], dtype=int32)>"
            ]
          },
          "metadata": {},
          "execution_count": 19
        }
      ]
    },
    {
      "cell_type": "code",
      "source": [
        "tf.add(const1,const2)"
      ],
      "metadata": {
        "colab": {
          "base_uri": "https://localhost:8080/"
        },
        "id": "Hn0pQSqIRiSE",
        "outputId": "6d35470f-cf2a-49b6-adcc-c7a82e7ee8db"
      },
      "execution_count": 20,
      "outputs": [
        {
          "output_type": "execute_result",
          "data": {
            "text/plain": [
              "<tf.Tensor: shape=(2, 3), dtype=int32, numpy=\n",
              "array([[ 3,  7,  6],\n",
              "       [ 7, 10, 14]], dtype=int32)>"
            ]
          },
          "metadata": {},
          "execution_count": 20
        }
      ]
    },
    {
      "cell_type": "markdown",
      "source": [
        "# Random const"
      ],
      "metadata": {
        "id": "tVLg5_NgRpmN"
      }
    },
    {
      "cell_type": "code",
      "source": [
        "tf.random.normal(shape=(2,2),mean=0,stddev=1.0)"
      ],
      "metadata": {
        "colab": {
          "base_uri": "https://localhost:8080/"
        },
        "id": "W6VHBYc1Ro4x",
        "outputId": "c37ec732-b8a5-41c2-d96b-f6a734ee0d8b"
      },
      "execution_count": 21,
      "outputs": [
        {
          "output_type": "execute_result",
          "data": {
            "text/plain": [
              "<tf.Tensor: shape=(2, 2), dtype=float32, numpy=\n",
              "array([[0.46807548, 1.9169971 ],\n",
              "       [0.76000285, 1.1154068 ]], dtype=float32)>"
            ]
          },
          "metadata": {},
          "execution_count": 21
        }
      ]
    },
    {
      "cell_type": "code",
      "source": [
        "tf.random.uniform(shape=(2,2),minval=0,maxval=20)"
      ],
      "metadata": {
        "colab": {
          "base_uri": "https://localhost:8080/"
        },
        "id": "U3HoXWziRnUz",
        "outputId": "9dcfbc46-2ddf-491b-d1c8-1b21cb31fcb1"
      },
      "execution_count": 22,
      "outputs": [
        {
          "output_type": "execute_result",
          "data": {
            "text/plain": [
              "<tf.Tensor: shape=(2, 2), dtype=float32, numpy=\n",
              "array([[ 9.729238 , 11.360621 ],\n",
              "       [ 4.823084 ,  1.7637014]], dtype=float32)>"
            ]
          },
          "metadata": {},
          "execution_count": 22
        }
      ]
    },
    {
      "cell_type": "markdown",
      "source": [
        "#VAriables"
      ],
      "metadata": {
        "id": "DThHYHS1SETB"
      }
    },
    {
      "cell_type": "code",
      "source": [
        "var1=tf.Variable([[1,2,3],[4,5,6]])"
      ],
      "metadata": {
        "id": "2z7ewD7NSCA-"
      },
      "execution_count": 23,
      "outputs": []
    },
    {
      "cell_type": "code",
      "source": [
        "var1"
      ],
      "metadata": {
        "colab": {
          "base_uri": "https://localhost:8080/"
        },
        "id": "AQbQ9H86SQrX",
        "outputId": "090dde2f-719f-49f7-f6fd-810b846ba8db"
      },
      "execution_count": 24,
      "outputs": [
        {
          "output_type": "execute_result",
          "data": {
            "text/plain": [
              "<tf.Variable 'Variable:0' shape=(2, 3) dtype=int32, numpy=\n",
              "array([[1, 2, 3],\n",
              "       [4, 5, 6]], dtype=int32)>"
            ]
          },
          "metadata": {},
          "execution_count": 24
        }
      ]
    },
    {
      "cell_type": "code",
      "source": [
        "var2=tf.Variable(43)"
      ],
      "metadata": {
        "id": "QtQrwU0iSTGg"
      },
      "execution_count": 25,
      "outputs": []
    },
    {
      "cell_type": "code",
      "source": [
        "var2.assign(32)"
      ],
      "metadata": {
        "colab": {
          "base_uri": "https://localhost:8080/"
        },
        "id": "LFtPxf6PSb3D",
        "outputId": "7d79be38-1311-46ee-fba3-4b12d81969d2"
      },
      "execution_count": 26,
      "outputs": [
        {
          "output_type": "execute_result",
          "data": {
            "text/plain": [
              "<tf.Variable 'UnreadVariable' shape=() dtype=int32, numpy=32>"
            ]
          },
          "metadata": {},
          "execution_count": 26
        }
      ]
    },
    {
      "cell_type": "code",
      "source": [
        "var2.assign([[1,2,3],[4,5,6]]) # hence this is not possible"
      ],
      "metadata": {
        "colab": {
          "base_uri": "https://localhost:8080/",
          "height": 331
        },
        "id": "Tt4YOsWsSfc7",
        "outputId": "c0383998-7567-41eb-efc3-5a90fe656aaa"
      },
      "execution_count": 27,
      "outputs": [
        {
          "output_type": "error",
          "ename": "ValueError",
          "evalue": "ignored",
          "traceback": [
            "\u001b[0;31m---------------------------------------------------------------------------\u001b[0m",
            "\u001b[0;31mValueError\u001b[0m                                Traceback (most recent call last)",
            "\u001b[0;32m<ipython-input-27-8dd8e154e237>\u001b[0m in \u001b[0;36m<cell line: 1>\u001b[0;34m()\u001b[0m\n\u001b[0;32m----> 1\u001b[0;31m \u001b[0mvar2\u001b[0m\u001b[0;34m.\u001b[0m\u001b[0massign\u001b[0m\u001b[0;34m(\u001b[0m\u001b[0;34m[\u001b[0m\u001b[0;34m[\u001b[0m\u001b[0;36m1\u001b[0m\u001b[0;34m,\u001b[0m\u001b[0;36m2\u001b[0m\u001b[0;34m,\u001b[0m\u001b[0;36m3\u001b[0m\u001b[0;34m]\u001b[0m\u001b[0;34m,\u001b[0m\u001b[0;34m[\u001b[0m\u001b[0;36m4\u001b[0m\u001b[0;34m,\u001b[0m\u001b[0;36m5\u001b[0m\u001b[0;34m,\u001b[0m\u001b[0;36m6\u001b[0m\u001b[0;34m]\u001b[0m\u001b[0;34m]\u001b[0m\u001b[0;34m)\u001b[0m \u001b[0;31m# hence this is not possible\u001b[0m\u001b[0;34m\u001b[0m\u001b[0;34m\u001b[0m\u001b[0m\n\u001b[0m",
            "\u001b[0;32m/usr/local/lib/python3.10/dist-packages/tensorflow/python/ops/resource_variable_ops.py\u001b[0m in \u001b[0;36massign\u001b[0;34m(self, value, use_locking, name, read_value)\u001b[0m\n\u001b[1;32m    978\u001b[0m         \u001b[0;32melse\u001b[0m\u001b[0;34m:\u001b[0m\u001b[0;34m\u001b[0m\u001b[0;34m\u001b[0m\u001b[0m\n\u001b[1;32m    979\u001b[0m           \u001b[0mtensor_name\u001b[0m \u001b[0;34m=\u001b[0m \u001b[0;34m\" \"\u001b[0m \u001b[0;34m+\u001b[0m \u001b[0mstr\u001b[0m\u001b[0;34m(\u001b[0m\u001b[0mself\u001b[0m\u001b[0;34m.\u001b[0m\u001b[0mname\u001b[0m\u001b[0;34m)\u001b[0m\u001b[0;34m\u001b[0m\u001b[0;34m\u001b[0m\u001b[0m\n\u001b[0;32m--> 980\u001b[0;31m         raise ValueError(\n\u001b[0m\u001b[1;32m    981\u001b[0m             (f\"Cannot assign value to variable '{tensor_name}': Shape mismatch.\"\n\u001b[1;32m    982\u001b[0m              \u001b[0;34mf\"The variable shape {self._shape}, and the \"\u001b[0m\u001b[0;34m\u001b[0m\u001b[0;34m\u001b[0m\u001b[0m\n",
            "\u001b[0;31mValueError\u001b[0m: Cannot assign value to variable ' Variable:0': Shape mismatch.The variable shape (), and the assigned value shape (2, 3) are incompatible."
          ]
        }
      ]
    },
    {
      "cell_type": "code",
      "source": [
        "type(var2)"
      ],
      "metadata": {
        "id": "QLAjxxfUTbBm"
      },
      "execution_count": null,
      "outputs": []
    },
    {
      "cell_type": "code",
      "source": [
        "var1=32"
      ],
      "metadata": {
        "id": "npL7_aunSk-v"
      },
      "execution_count": null,
      "outputs": []
    },
    {
      "cell_type": "code",
      "source": [
        "type(var1)"
      ],
      "metadata": {
        "id": "k1hSDwJYSokl"
      },
      "execution_count": null,
      "outputs": []
    },
    {
      "cell_type": "code",
      "source": [
        "var1=tf.Variable([[1,2,3],[4,5,6]])"
      ],
      "metadata": {
        "id": "yCZmMxy8SwBM"
      },
      "execution_count": null,
      "outputs": []
    },
    {
      "cell_type": "code",
      "source": [
        "#if you wnat to change var1\n",
        "var1.assign([[22,2,3],[4,5,6]])"
      ],
      "metadata": {
        "colab": {
          "base_uri": "https://localhost:8080/"
        },
        "id": "Mrvrg3FRTnNX",
        "outputId": "2c8409c0-2462-44dc-fbe5-6e24330b114e"
      },
      "execution_count": 28,
      "outputs": [
        {
          "output_type": "execute_result",
          "data": {
            "text/plain": [
              "<tf.Variable 'UnreadVariable' shape=(2, 3) dtype=int32, numpy=\n",
              "array([[22,  2,  3],\n",
              "       [ 4,  5,  6]], dtype=int32)>"
            ]
          },
          "metadata": {},
          "execution_count": 28
        }
      ]
    },
    {
      "cell_type": "code",
      "source": [
        "#Also\n",
        "var1[1,1].assign(34)"
      ],
      "metadata": {
        "colab": {
          "base_uri": "https://localhost:8080/"
        },
        "id": "BOicRfvITznH",
        "outputId": "ea89cfe4-6fb9-47dd-99d3-c842954e8cdb"
      },
      "execution_count": 29,
      "outputs": [
        {
          "output_type": "execute_result",
          "data": {
            "text/plain": [
              "<tf.Variable 'UnreadVariable' shape=(2, 3) dtype=int32, numpy=\n",
              "array([[22,  2,  3],\n",
              "       [ 4, 34,  6]], dtype=int32)>"
            ]
          },
          "metadata": {},
          "execution_count": 29
        }
      ]
    },
    {
      "cell_type": "markdown",
      "source": [
        "# Reshaping operations"
      ],
      "metadata": {
        "id": "cTrcUunqV7RF"
      }
    },
    {
      "cell_type": "code",
      "source": [
        "tensor=tf.Variable([[22,2,3],[4,5,6]])"
      ],
      "metadata": {
        "id": "zZH3iqJKUcNt"
      },
      "execution_count": 30,
      "outputs": []
    },
    {
      "cell_type": "code",
      "source": [
        "tensor.shape"
      ],
      "metadata": {
        "colab": {
          "base_uri": "https://localhost:8080/"
        },
        "id": "_G3RkSMsWJbl",
        "outputId": "58905696-28fb-4bef-8697-2b36d84072d9"
      },
      "execution_count": 31,
      "outputs": [
        {
          "output_type": "execute_result",
          "data": {
            "text/plain": [
              "TensorShape([2, 3])"
            ]
          },
          "metadata": {},
          "execution_count": 31
        }
      ]
    },
    {
      "cell_type": "code",
      "source": [
        "tf.reshape(tensor,[3,2])"
      ],
      "metadata": {
        "colab": {
          "base_uri": "https://localhost:8080/"
        },
        "id": "SoNipcODWKcj",
        "outputId": "dedb0baa-e5fb-43d9-db09-caba015aff36"
      },
      "execution_count": 32,
      "outputs": [
        {
          "output_type": "execute_result",
          "data": {
            "text/plain": [
              "<tf.Tensor: shape=(3, 2), dtype=int32, numpy=\n",
              "array([[22,  2],\n",
              "       [ 3,  4],\n",
              "       [ 5,  6]], dtype=int32)>"
            ]
          },
          "metadata": {},
          "execution_count": 32
        }
      ]
    },
    {
      "cell_type": "code",
      "source": [
        "tf.reshape(tensor,[1,6])"
      ],
      "metadata": {
        "colab": {
          "base_uri": "https://localhost:8080/"
        },
        "id": "EABfZCjhWQFz",
        "outputId": "50024664-25a9-4c64-f345-1474981cd1b2"
      },
      "execution_count": 33,
      "outputs": [
        {
          "output_type": "execute_result",
          "data": {
            "text/plain": [
              "<tf.Tensor: shape=(1, 6), dtype=int32, numpy=array([[22,  2,  3,  4,  5,  6]], dtype=int32)>"
            ]
          },
          "metadata": {},
          "execution_count": 33
        }
      ]
    },
    {
      "cell_type": "markdown",
      "source": [
        "## other mathematical operations"
      ],
      "metadata": {
        "id": "Y4TSGZ7NWfqr"
      }
    },
    {
      "cell_type": "code",
      "source": [
        "var1"
      ],
      "metadata": {
        "colab": {
          "base_uri": "https://localhost:8080/"
        },
        "id": "FyKTUiJlWVIE",
        "outputId": "c6c987e1-f858-4eb4-8fdf-c3baed8a1842"
      },
      "execution_count": 34,
      "outputs": [
        {
          "output_type": "execute_result",
          "data": {
            "text/plain": [
              "<tf.Variable 'Variable:0' shape=(2, 3) dtype=int32, numpy=\n",
              "array([[22,  2,  3],\n",
              "       [ 4, 34,  6]], dtype=int32)>"
            ]
          },
          "metadata": {},
          "execution_count": 34
        }
      ]
    },
    {
      "cell_type": "code",
      "source": [
        "tf.square(var1)"
      ],
      "metadata": {
        "colab": {
          "base_uri": "https://localhost:8080/"
        },
        "id": "wftnUWL7WiVJ",
        "outputId": "a313ec0d-825f-4fa5-b828-85186f735d8b"
      },
      "execution_count": 35,
      "outputs": [
        {
          "output_type": "execute_result",
          "data": {
            "text/plain": [
              "<tf.Tensor: shape=(2, 3), dtype=int32, numpy=\n",
              "array([[ 484,    4,    9],\n",
              "       [  16, 1156,   36]], dtype=int32)>"
            ]
          },
          "metadata": {},
          "execution_count": 35
        }
      ]
    },
    {
      "cell_type": "code",
      "source": [
        "tensor"
      ],
      "metadata": {
        "colab": {
          "base_uri": "https://localhost:8080/"
        },
        "id": "YNKy60TAZX03",
        "outputId": "35855533-fe09-45dc-80ba-437996378748"
      },
      "execution_count": 36,
      "outputs": [
        {
          "output_type": "execute_result",
          "data": {
            "text/plain": [
              "<tf.Variable 'Variable:0' shape=(2, 3) dtype=int32, numpy=\n",
              "array([[22,  2,  3],\n",
              "       [ 4,  5,  6]], dtype=int32)>"
            ]
          },
          "metadata": {},
          "execution_count": 36
        }
      ]
    },
    {
      "cell_type": "code",
      "source": [
        "## Broadcasting in tensorflow\n",
        "scaler=4\n",
        "scaler*tensor"
      ],
      "metadata": {
        "colab": {
          "base_uri": "https://localhost:8080/"
        },
        "id": "-zk7HOxuWnGY",
        "outputId": "41ba4819-1eb6-4e36-c958-02b36e70e832"
      },
      "execution_count": 37,
      "outputs": [
        {
          "output_type": "execute_result",
          "data": {
            "text/plain": [
              "<tf.Tensor: shape=(2, 3), dtype=int32, numpy=\n",
              "array([[88,  8, 12],\n",
              "       [16, 20, 24]], dtype=int32)>"
            ]
          },
          "metadata": {},
          "execution_count": 37
        }
      ]
    },
    {
      "cell_type": "code",
      "source": [
        "scaler+tensor"
      ],
      "metadata": {
        "colab": {
          "base_uri": "https://localhost:8080/"
        },
        "id": "2dmywIZpZb18",
        "outputId": "34a3d0f7-f750-4e23-9eaf-5fdfcd2dfe3b"
      },
      "execution_count": 38,
      "outputs": [
        {
          "output_type": "execute_result",
          "data": {
            "text/plain": [
              "<tf.Tensor: shape=(2, 3), dtype=int32, numpy=\n",
              "array([[26,  6,  7],\n",
              "       [ 8,  9, 10]], dtype=int32)>"
            ]
          },
          "metadata": {},
          "execution_count": 38
        }
      ]
    },
    {
      "cell_type": "markdown",
      "source": [
        "#Matrix Multiplication\n"
      ],
      "metadata": {
        "id": "ejXk9t3kZ5lU"
      }
    },
    {
      "cell_type": "code",
      "source": [
        "mat_u=tf.constant([[6,7,7]])\n",
        "mat_v=tf.constant([[6,7,7]])"
      ],
      "metadata": {
        "id": "seH9KGf0Z2wm"
      },
      "execution_count": 39,
      "outputs": []
    },
    {
      "cell_type": "code",
      "source": [
        "mat_u.shape"
      ],
      "metadata": {
        "colab": {
          "base_uri": "https://localhost:8080/"
        },
        "id": "5nv3lPyvalaf",
        "outputId": "88d13550-9c78-4a3a-de26-a202ecfbb6fd"
      },
      "execution_count": 40,
      "outputs": [
        {
          "output_type": "execute_result",
          "data": {
            "text/plain": [
              "TensorShape([1, 3])"
            ]
          },
          "metadata": {},
          "execution_count": 40
        }
      ]
    },
    {
      "cell_type": "code",
      "source": [
        "mat_v.shape"
      ],
      "metadata": {
        "colab": {
          "base_uri": "https://localhost:8080/"
        },
        "id": "g23Kij_RasbR",
        "outputId": "68d28201-b558-4ad8-9eef-72c002f2f5cd"
      },
      "execution_count": 41,
      "outputs": [
        {
          "output_type": "execute_result",
          "data": {
            "text/plain": [
              "TensorShape([1, 3])"
            ]
          },
          "metadata": {},
          "execution_count": 41
        }
      ]
    },
    {
      "cell_type": "code",
      "source": [
        "tf.matmul(mat_u,mat_v)"
      ],
      "metadata": {
        "colab": {
          "base_uri": "https://localhost:8080/",
          "height": 337
        },
        "id": "Zh9uduIPates",
        "outputId": "8e87ff5e-0fb2-4a29-eaca-7701f65476ea"
      },
      "execution_count": 42,
      "outputs": [
        {
          "output_type": "error",
          "ename": "InvalidArgumentError",
          "evalue": "ignored",
          "traceback": [
            "\u001b[0;31m---------------------------------------------------------------------------\u001b[0m",
            "\u001b[0;31mInvalidArgumentError\u001b[0m                      Traceback (most recent call last)",
            "\u001b[0;32m<ipython-input-42-4c6f50cba4dd>\u001b[0m in \u001b[0;36m<cell line: 1>\u001b[0;34m()\u001b[0m\n\u001b[0;32m----> 1\u001b[0;31m \u001b[0mtf\u001b[0m\u001b[0;34m.\u001b[0m\u001b[0mmatmul\u001b[0m\u001b[0;34m(\u001b[0m\u001b[0mmat_u\u001b[0m\u001b[0;34m,\u001b[0m\u001b[0mmat_v\u001b[0m\u001b[0;34m)\u001b[0m\u001b[0;34m\u001b[0m\u001b[0;34m\u001b[0m\u001b[0m\n\u001b[0m",
            "\u001b[0;32m/usr/local/lib/python3.10/dist-packages/tensorflow/python/util/traceback_utils.py\u001b[0m in \u001b[0;36merror_handler\u001b[0;34m(*args, **kwargs)\u001b[0m\n\u001b[1;32m    151\u001b[0m     \u001b[0;32mexcept\u001b[0m \u001b[0mException\u001b[0m \u001b[0;32mas\u001b[0m \u001b[0me\u001b[0m\u001b[0;34m:\u001b[0m\u001b[0;34m\u001b[0m\u001b[0;34m\u001b[0m\u001b[0m\n\u001b[1;32m    152\u001b[0m       \u001b[0mfiltered_tb\u001b[0m \u001b[0;34m=\u001b[0m \u001b[0m_process_traceback_frames\u001b[0m\u001b[0;34m(\u001b[0m\u001b[0me\u001b[0m\u001b[0;34m.\u001b[0m\u001b[0m__traceback__\u001b[0m\u001b[0;34m)\u001b[0m\u001b[0;34m\u001b[0m\u001b[0;34m\u001b[0m\u001b[0m\n\u001b[0;32m--> 153\u001b[0;31m       \u001b[0;32mraise\u001b[0m \u001b[0me\u001b[0m\u001b[0;34m.\u001b[0m\u001b[0mwith_traceback\u001b[0m\u001b[0;34m(\u001b[0m\u001b[0mfiltered_tb\u001b[0m\u001b[0;34m)\u001b[0m \u001b[0;32mfrom\u001b[0m \u001b[0;32mNone\u001b[0m\u001b[0;34m\u001b[0m\u001b[0;34m\u001b[0m\u001b[0m\n\u001b[0m\u001b[1;32m    154\u001b[0m     \u001b[0;32mfinally\u001b[0m\u001b[0;34m:\u001b[0m\u001b[0;34m\u001b[0m\u001b[0;34m\u001b[0m\u001b[0m\n\u001b[1;32m    155\u001b[0m       \u001b[0;32mdel\u001b[0m \u001b[0mfiltered_tb\u001b[0m\u001b[0;34m\u001b[0m\u001b[0;34m\u001b[0m\u001b[0m\n",
            "\u001b[0;32m/usr/local/lib/python3.10/dist-packages/tensorflow/python/framework/ops.py\u001b[0m in \u001b[0;36mraise_from_not_ok_status\u001b[0;34m(e, name)\u001b[0m\n\u001b[1;32m   7260\u001b[0m \u001b[0;32mdef\u001b[0m \u001b[0mraise_from_not_ok_status\u001b[0m\u001b[0;34m(\u001b[0m\u001b[0me\u001b[0m\u001b[0;34m,\u001b[0m \u001b[0mname\u001b[0m\u001b[0;34m)\u001b[0m\u001b[0;34m:\u001b[0m\u001b[0;34m\u001b[0m\u001b[0;34m\u001b[0m\u001b[0m\n\u001b[1;32m   7261\u001b[0m   \u001b[0me\u001b[0m\u001b[0;34m.\u001b[0m\u001b[0mmessage\u001b[0m \u001b[0;34m+=\u001b[0m \u001b[0;34m(\u001b[0m\u001b[0;34m\" name: \"\u001b[0m \u001b[0;34m+\u001b[0m \u001b[0mname\u001b[0m \u001b[0;32mif\u001b[0m \u001b[0mname\u001b[0m \u001b[0;32mis\u001b[0m \u001b[0;32mnot\u001b[0m \u001b[0;32mNone\u001b[0m \u001b[0;32melse\u001b[0m \u001b[0;34m\"\"\u001b[0m\u001b[0;34m)\u001b[0m\u001b[0;34m\u001b[0m\u001b[0;34m\u001b[0m\u001b[0m\n\u001b[0;32m-> 7262\u001b[0;31m   \u001b[0;32mraise\u001b[0m \u001b[0mcore\u001b[0m\u001b[0;34m.\u001b[0m\u001b[0m_status_to_exception\u001b[0m\u001b[0;34m(\u001b[0m\u001b[0me\u001b[0m\u001b[0;34m)\u001b[0m \u001b[0;32mfrom\u001b[0m \u001b[0;32mNone\u001b[0m  \u001b[0;31m# pylint: disable=protected-access\u001b[0m\u001b[0;34m\u001b[0m\u001b[0;34m\u001b[0m\u001b[0m\n\u001b[0m\u001b[1;32m   7263\u001b[0m \u001b[0;34m\u001b[0m\u001b[0m\n\u001b[1;32m   7264\u001b[0m \u001b[0;34m\u001b[0m\u001b[0m\n",
            "\u001b[0;31mInvalidArgumentError\u001b[0m: {{function_node __wrapped__MatMul_device_/job:localhost/replica:0/task:0/device:CPU:0}} Matrix size-incompatible: In[0]: [1,3], In[1]: [1,3] [Op:MatMul]"
          ]
        }
      ]
    },
    {
      "cell_type": "code",
      "source": [
        "tf.matmul(mat_u,tf.transpose(mat_v))"
      ],
      "metadata": {
        "id": "mfW3mQcCa3fw"
      },
      "execution_count": null,
      "outputs": []
    },
    {
      "cell_type": "code",
      "source": [
        "tf.matmul(tf.transpose(mat_u),mat_v)"
      ],
      "metadata": {
        "id": "XC_4yCZ6a_lg"
      },
      "execution_count": null,
      "outputs": []
    },
    {
      "cell_type": "code",
      "source": [
        "## alternative\n",
        "mat_u@tf.transpose(mat_v)"
      ],
      "metadata": {
        "id": "RnvmS3jYbJYW"
      },
      "execution_count": null,
      "outputs": []
    },
    {
      "cell_type": "code",
      "source": [
        "mat_u*mat_v # element wise multiplication shpae of both should be same"
      ],
      "metadata": {
        "id": "RGYA1XcmbW8W"
      },
      "execution_count": null,
      "outputs": []
    },
    {
      "cell_type": "markdown",
      "source": [
        "\n",
        "# casting method in tf to change the data type"
      ],
      "metadata": {
        "id": "YBqU4BAUbqvP"
      }
    },
    {
      "cell_type": "code",
      "source": [
        "mat_u.dtype"
      ],
      "metadata": {
        "colab": {
          "base_uri": "https://localhost:8080/"
        },
        "id": "6EadO8TrbhYR",
        "outputId": "8b9aa8ce-a426-477b-d6f3-de5b8b9b5188"
      },
      "execution_count": 43,
      "outputs": [
        {
          "output_type": "execute_result",
          "data": {
            "text/plain": [
              "tf.int32"
            ]
          },
          "metadata": {},
          "execution_count": 43
        }
      ]
    },
    {
      "cell_type": "code",
      "source": [
        "tf.cast(mat_u,dtype=tf.int16) # can be use in quantizing the model to dave the space in the memory allocation"
      ],
      "metadata": {
        "colab": {
          "base_uri": "https://localhost:8080/"
        },
        "id": "zZDiLrPmb1u6",
        "outputId": "67e06790-602b-4bbf-806f-1f109115ab33"
      },
      "execution_count": 44,
      "outputs": [
        {
          "output_type": "execute_result",
          "data": {
            "text/plain": [
              "<tf.Tensor: shape=(1, 3), dtype=int16, numpy=array([[6, 7, 7]], dtype=int16)>"
            ]
          },
          "metadata": {},
          "execution_count": 44
        }
      ]
    },
    {
      "cell_type": "markdown",
      "source": [
        "# Ragged tensor\n",
        "nested variable length arrays"
      ],
      "metadata": {
        "id": "aL0Qt-dCdNa7"
      }
    },
    {
      "cell_type": "code",
      "source": [
        "ragged=tf.ragged.constant([[1,2,3],[1],[135,1]])"
      ],
      "metadata": {
        "id": "wpCja49-cBmJ"
      },
      "execution_count": 45,
      "outputs": []
    },
    {
      "cell_type": "code",
      "source": [
        "ragged.shape"
      ],
      "metadata": {
        "colab": {
          "base_uri": "https://localhost:8080/"
        },
        "id": "g3TfhhjMdm_E",
        "outputId": "924dd34d-3939-4025-fdfc-f2dc23318f6d"
      },
      "execution_count": 46,
      "outputs": [
        {
          "output_type": "execute_result",
          "data": {
            "text/plain": [
              "TensorShape([3, None])"
            ]
          },
          "metadata": {},
          "execution_count": 46
        }
      ]
    },
    {
      "cell_type": "code",
      "source": [
        "ragged[0].shape"
      ],
      "metadata": {
        "colab": {
          "base_uri": "https://localhost:8080/"
        },
        "id": "kIUvltkaduvy",
        "outputId": "7eebf3aa-0b8a-4c8c-a297-de830ca928f7"
      },
      "execution_count": 47,
      "outputs": [
        {
          "output_type": "execute_result",
          "data": {
            "text/plain": [
              "TensorShape([3])"
            ]
          },
          "metadata": {},
          "execution_count": 47
        }
      ]
    },
    {
      "cell_type": "markdown",
      "source": [
        "#Squared difference of tensors"
      ],
      "metadata": {
        "id": "e0xKXiHDebrr"
      }
    },
    {
      "cell_type": "code",
      "source": [
        "varx=[1,2,3,4,5,6]\n",
        "vary=2\n",
        "\n",
        "tf.math.squared_difference(varx,vary)"
      ],
      "metadata": {
        "colab": {
          "base_uri": "https://localhost:8080/"
        },
        "id": "Wov4axY8eYMf",
        "outputId": "78e5bc4d-4327-47aa-e705-179ade266119"
      },
      "execution_count": 48,
      "outputs": [
        {
          "output_type": "execute_result",
          "data": {
            "text/plain": [
              "<tf.Tensor: shape=(6,), dtype=int32, numpy=array([ 1,  0,  1,  4,  9, 16], dtype=int32)>"
            ]
          },
          "metadata": {},
          "execution_count": 48
        }
      ]
    },
    {
      "cell_type": "code",
      "source": [
        "pred=[1,2,3,4,5,6]\n",
        "actual=[1,1,1,1,1,1]\n",
        "tf.math.squared_difference(pred,actual)"
      ],
      "metadata": {
        "colab": {
          "base_uri": "https://localhost:8080/"
        },
        "id": "3cOxfuIBepR9",
        "outputId": "d9ad5e8c-cd89-45f7-8111-b1bcb9140658"
      },
      "execution_count": 49,
      "outputs": [
        {
          "output_type": "execute_result",
          "data": {
            "text/plain": [
              "<tf.Tensor: shape=(6,), dtype=int32, numpy=array([ 0,  1,  4,  9, 16, 25], dtype=int32)>"
            ]
          },
          "metadata": {},
          "execution_count": 49
        }
      ]
    },
    {
      "cell_type": "markdown",
      "source": [
        "# calculate mean"
      ],
      "metadata": {
        "id": "lGTkoQpde3QB"
      }
    },
    {
      "cell_type": "code",
      "source": [
        "num=tf.constant([[1.,2.],[3.,4.]])"
      ],
      "metadata": {
        "id": "FqsUFnrqe1wn"
      },
      "execution_count": 50,
      "outputs": []
    },
    {
      "cell_type": "code",
      "source": [
        "tf.reduce_mean(num)"
      ],
      "metadata": {
        "colab": {
          "base_uri": "https://localhost:8080/"
        },
        "id": "upoBuFhBfFUa",
        "outputId": "0e61e39f-00fd-4d45-fa2f-a9c63772b447"
      },
      "execution_count": 51,
      "outputs": [
        {
          "output_type": "execute_result",
          "data": {
            "text/plain": [
              "<tf.Tensor: shape=(), dtype=float32, numpy=2.5>"
            ]
          },
          "metadata": {},
          "execution_count": 51
        }
      ]
    },
    {
      "cell_type": "code",
      "source": [
        "tf.reduce_mean(num,axis=0) # row wise mean"
      ],
      "metadata": {
        "colab": {
          "base_uri": "https://localhost:8080/"
        },
        "id": "3C6eF8HvfOC0",
        "outputId": "c15ffce1-c57b-4fb5-ec57-dcae6f853964"
      },
      "execution_count": 52,
      "outputs": [
        {
          "output_type": "execute_result",
          "data": {
            "text/plain": [
              "<tf.Tensor: shape=(2,), dtype=float32, numpy=array([2., 3.], dtype=float32)>"
            ]
          },
          "metadata": {},
          "execution_count": 52
        }
      ]
    },
    {
      "cell_type": "code",
      "source": [
        "tf.reduce_mean(num,axis=1)"
      ],
      "metadata": {
        "colab": {
          "base_uri": "https://localhost:8080/"
        },
        "id": "zQ9ydUuZfWBT",
        "outputId": "2b262709-9781-4bd3-c0f5-6fdc3950a39f"
      },
      "execution_count": 53,
      "outputs": [
        {
          "output_type": "execute_result",
          "data": {
            "text/plain": [
              "<tf.Tensor: shape=(2,), dtype=float32, numpy=array([1.5, 3.5], dtype=float32)>"
            ]
          },
          "metadata": {},
          "execution_count": 53
        }
      ]
    },
    {
      "cell_type": "code",
      "source": [
        "tf.reduce_mean(num,axis=1,keepdims=True)"
      ],
      "metadata": {
        "colab": {
          "base_uri": "https://localhost:8080/"
        },
        "id": "Mbo7dGSJfnjq",
        "outputId": "fc600eb7-b97a-42d1-b27c-20d7f236cfb2"
      },
      "execution_count": 54,
      "outputs": [
        {
          "output_type": "execute_result",
          "data": {
            "text/plain": [
              "<tf.Tensor: shape=(2, 1), dtype=float32, numpy=\n",
              "array([[1.5],\n",
              "       [3.5]], dtype=float32)>"
            ]
          },
          "metadata": {},
          "execution_count": 54
        }
      ]
    },
    {
      "cell_type": "code",
      "source": [
        "## Checkpointing to restore the matrix vals"
      ],
      "metadata": {
        "id": "G-KdcXp5ftNU"
      },
      "execution_count": 55,
      "outputs": []
    },
    {
      "cell_type": "code",
      "source": [
        "var1=tf.Variable(5*tf.ones((5,5)))\n",
        "\n",
        "var1"
      ],
      "metadata": {
        "colab": {
          "base_uri": "https://localhost:8080/"
        },
        "id": "n7sYm96_gcNj",
        "outputId": "4d820b36-d334-4ccf-f077-e60bb639c5c5"
      },
      "execution_count": 56,
      "outputs": [
        {
          "output_type": "execute_result",
          "data": {
            "text/plain": [
              "<tf.Variable 'Variable:0' shape=(5, 5) dtype=float32, numpy=\n",
              "array([[5., 5., 5., 5., 5.],\n",
              "       [5., 5., 5., 5., 5.],\n",
              "       [5., 5., 5., 5., 5.],\n",
              "       [5., 5., 5., 5., 5.],\n",
              "       [5., 5., 5., 5., 5.]], dtype=float32)>"
            ]
          },
          "metadata": {},
          "execution_count": 56
        }
      ]
    },
    {
      "cell_type": "code",
      "source": [
        "ckpt=tf.train.Checkpoint(var=var1)#save the variable\n",
        "savepath=ckpt.save(\"./vars.ckpt\")# path where you want to save it"
      ],
      "metadata": {
        "id": "_p480XtmgpDw"
      },
      "execution_count": 57,
      "outputs": []
    },
    {
      "cell_type": "code",
      "source": [
        "var1.assign(tf.zeros((5,5)))"
      ],
      "metadata": {
        "colab": {
          "base_uri": "https://localhost:8080/"
        },
        "id": "34NmO0HQg6Oi",
        "outputId": "1cadbbaa-2463-4292-c080-7141d8b4b74d"
      },
      "execution_count": 58,
      "outputs": [
        {
          "output_type": "execute_result",
          "data": {
            "text/plain": [
              "<tf.Variable 'UnreadVariable' shape=(5, 5) dtype=float32, numpy=\n",
              "array([[0., 0., 0., 0., 0.],\n",
              "       [0., 0., 0., 0., 0.],\n",
              "       [0., 0., 0., 0., 0.],\n",
              "       [0., 0., 0., 0., 0.],\n",
              "       [0., 0., 0., 0., 0.]], dtype=float32)>"
            ]
          },
          "metadata": {},
          "execution_count": 58
        }
      ]
    },
    {
      "cell_type": "code",
      "source": [
        "ckpt.restore(savepath)"
      ],
      "metadata": {
        "colab": {
          "base_uri": "https://localhost:8080/"
        },
        "id": "dXFqp_zMhFYE",
        "outputId": "6a0392fc-6048-4e77-ea6d-0d124ae56e79"
      },
      "execution_count": 59,
      "outputs": [
        {
          "output_type": "execute_result",
          "data": {
            "text/plain": [
              "<tensorflow.python.checkpoint.checkpoint.CheckpointLoadStatus at 0x7fe68ff7b640>"
            ]
          },
          "metadata": {},
          "execution_count": 59
        }
      ]
    },
    {
      "cell_type": "code",
      "source": [
        "var1"
      ],
      "metadata": {
        "colab": {
          "base_uri": "https://localhost:8080/"
        },
        "id": "chYI-n8ehLJk",
        "outputId": "23c08f15-bbc3-477f-bc20-6272c2ba2f42"
      },
      "execution_count": 60,
      "outputs": [
        {
          "output_type": "execute_result",
          "data": {
            "text/plain": [
              "<tf.Variable 'Variable:0' shape=(5, 5) dtype=float32, numpy=\n",
              "array([[5., 5., 5., 5., 5.],\n",
              "       [5., 5., 5., 5., 5.],\n",
              "       [5., 5., 5., 5., 5.],\n",
              "       [5., 5., 5., 5., 5.],\n",
              "       [5., 5., 5., 5., 5.]], dtype=float32)>"
            ]
          },
          "metadata": {},
          "execution_count": 60
        }
      ]
    },
    {
      "cell_type": "markdown",
      "source": [
        "#tf.function"
      ],
      "metadata": {
        "id": "A3u6Xm3xiQFd"
      }
    },
    {
      "cell_type": "markdown",
      "source": [
        "$z = x^3 * 6 + y^3 $"
      ],
      "metadata": {
        "id": "X5Evo0QPiSUP"
      }
    },
    {
      "cell_type": "code",
      "source": [
        "def f1(x, y):\n",
        "  input_var=tf.multiply(x**3,6) + y**3\n",
        "  return tf.reduce_mean(input_tensor=input_var)"
      ],
      "metadata": {
        "id": "NQRdBB6ChMKv"
      },
      "execution_count": 61,
      "outputs": []
    },
    {
      "cell_type": "code",
      "source": [
        "func=tf.function(f1)"
      ],
      "metadata": {
        "id": "m0LeRdF6jvwn"
      },
      "execution_count": 62,
      "outputs": []
    },
    {
      "cell_type": "code",
      "source": [
        "x = tf.constant([3.,-4.])\n",
        "y = tf.constant([1.,4.])"
      ],
      "metadata": {
        "id": "RI068hDkjyjh"
      },
      "execution_count": 63,
      "outputs": []
    },
    {
      "cell_type": "code",
      "source": [
        "f1(x,y)"
      ],
      "metadata": {
        "colab": {
          "base_uri": "https://localhost:8080/"
        },
        "id": "KNgvpHxRj-IB",
        "outputId": "87aaf733-d8ca-4a51-b86e-c91ebb9082ce"
      },
      "execution_count": 64,
      "outputs": [
        {
          "output_type": "execute_result",
          "data": {
            "text/plain": [
              "<tf.Tensor: shape=(), dtype=float32, numpy=-78.5>"
            ]
          },
          "metadata": {},
          "execution_count": 64
        }
      ]
    },
    {
      "cell_type": "code",
      "source": [
        "func(x,y)"
      ],
      "metadata": {
        "colab": {
          "base_uri": "https://localhost:8080/"
        },
        "id": "k-t2SRfpkBkn",
        "outputId": "83cebe01-9ed6-4308-87ed-845747f3422f"
      },
      "execution_count": 65,
      "outputs": [
        {
          "output_type": "execute_result",
          "data": {
            "text/plain": [
              "<tf.Tensor: shape=(), dtype=float32, numpy=-78.5>"
            ]
          },
          "metadata": {},
          "execution_count": 65
        }
      ]
    },
    {
      "cell_type": "code",
      "source": [
        "@tf.function # tf decorator function\n",
        "def f2(x, y):\n",
        "  input_var=tf.multiply(x**3,6) + y**3\n",
        "  return tf.reduce_mean(input_tensor=input_var) "
      ],
      "metadata": {
        "id": "XDxusaC7kLAr"
      },
      "execution_count": 66,
      "outputs": []
    },
    {
      "cell_type": "code",
      "source": [
        "f2(x,y)"
      ],
      "metadata": {
        "colab": {
          "base_uri": "https://localhost:8080/"
        },
        "id": "Om1XYun8kh7K",
        "outputId": "5cb3c166-bed3-4ef8-8a50-d303c7ec1480"
      },
      "execution_count": 67,
      "outputs": [
        {
          "output_type": "execute_result",
          "data": {
            "text/plain": [
              "<tf.Tensor: shape=(), dtype=float32, numpy=-78.5>"
            ]
          },
          "metadata": {},
          "execution_count": 67
        }
      ]
    },
    {
      "cell_type": "markdown",
      "source": [
        "#by using tf function CUDA capability or GPU is made available"
      ],
      "metadata": {
        "id": "hlarWDWIlPj5"
      }
    },
    {
      "cell_type": "markdown",
      "source": [
        "# Example of decorator"
      ],
      "metadata": {
        "id": "gBv6pqB1lfOj"
      }
    },
    {
      "cell_type": "code",
      "source": [
        "def print_me():\n",
        "  print(\"HI me\")"
      ],
      "metadata": {
        "id": "2aXcEoNPkkiC"
      },
      "execution_count": 68,
      "outputs": []
    },
    {
      "cell_type": "code",
      "source": [
        "print_me()"
      ],
      "metadata": {
        "colab": {
          "base_uri": "https://localhost:8080/"
        },
        "id": "Hfn_dNZyllaV",
        "outputId": "283a908d-3e50-42d6-9e39-c63238de2436"
      },
      "execution_count": 69,
      "outputs": [
        {
          "output_type": "stream",
          "name": "stdout",
          "text": [
            "HI me\n"
          ]
        }
      ]
    },
    {
      "cell_type": "code",
      "source": [
        "print(\"**\"*20)\n",
        "print_me()\n",
        "print(\"**\"*20)"
      ],
      "metadata": {
        "colab": {
          "base_uri": "https://localhost:8080/"
        },
        "id": "pI90FaaHlndg",
        "outputId": "bf4ac0aa-da19-40bd-9fd5-00ca0ef2dfdd"
      },
      "execution_count": 70,
      "outputs": [
        {
          "output_type": "stream",
          "name": "stdout",
          "text": [
            "****************************************\n",
            "HI me\n",
            "****************************************\n"
          ]
        }
      ]
    },
    {
      "cell_type": "code",
      "source": [
        "def decorate_it(input_func):\n",
        "  def decorated_func():\n",
        "    print(\"**\"*20)\n",
        "    input_func()\n",
        "    print(\"**\"*20)\n",
        "\n",
        "  return decorated_func"
      ],
      "metadata": {
        "id": "IgoiSlPSlyCB"
      },
      "execution_count": 71,
      "outputs": []
    },
    {
      "cell_type": "code",
      "source": [
        "@decorate_it\n",
        "def print_me2():\n",
        "  print(\"HI me\")"
      ],
      "metadata": {
        "id": "qsaHGQfbmGVV"
      },
      "execution_count": 72,
      "outputs": []
    },
    {
      "cell_type": "code",
      "source": [
        "print_me2()"
      ],
      "metadata": {
        "colab": {
          "base_uri": "https://localhost:8080/"
        },
        "id": "A88zwLR4mXa5",
        "outputId": "28981214-6417-415e-a4a6-c3ae102337ec"
      },
      "execution_count": 73,
      "outputs": [
        {
          "output_type": "stream",
          "name": "stdout",
          "text": [
            "****************************************\n",
            "HI me\n",
            "****************************************\n"
          ]
        }
      ]
    },
    {
      "cell_type": "markdown",
      "source": [
        "# have legacy codes you can use decorators to use the the old codes"
      ],
      "metadata": {
        "id": "aeorHnWenLEe"
      }
    },
    {
      "cell_type": "markdown",
      "source": [
        "# calculate gradients in tf"
      ],
      "metadata": {
        "id": "aTFYETtenc_N"
      }
    },
    {
      "cell_type": "code",
      "source": [
        "x = tf.random.normal(shape=(2,2))\n",
        "y = tf.random.normal(shape=(2,2)) # this creates a constant"
      ],
      "metadata": {
        "id": "V5lWfSqYmZeo"
      },
      "execution_count": 74,
      "outputs": []
    },
    {
      "cell_type": "markdown",
      "source": [],
      "metadata": {
        "id": "U_dXBPUwqAa-"
      }
    },
    {
      "cell_type": "markdown",
      "source": [
        "$f(x,y) = \\sqrt{(x^2 + y^2)}$\n",
        "\n",
        "$∇ f(x,y)= \\frac{\\partial f}{\\partial x}\\hat{\\imath} +\\frac{\\partial f}{\\partial y}\\hat{\\jmath}$ "
      ],
      "metadata": {
        "id": "AF7VW26pnt8X"
      }
    },
    {
      "cell_type": "code",
      "source": [
        "with tf.GradientTape() as tape:\n",
        "  tape.watch(x) ## I want to calcualte gradient wrt x\n",
        "  f=tf.sqrt(tf.square(x) + tf.square(y))\n",
        "\n",
        "  df_dx = tape.gradient(f, x)\n",
        "\n",
        "  print(df_dx)"
      ],
      "metadata": {
        "colab": {
          "base_uri": "https://localhost:8080/"
        },
        "id": "f1ZxD1ignsKt",
        "outputId": "702c33d2-cf9a-454a-e15d-07e2593204b7"
      },
      "execution_count": 75,
      "outputs": [
        {
          "output_type": "stream",
          "name": "stdout",
          "text": [
            "tf.Tensor(\n",
            "[[-0.49632618 -0.8996632 ]\n",
            " [ 0.707883    0.92671424]], shape=(2, 2), dtype=float32)\n"
          ]
        }
      ]
    },
    {
      "cell_type": "code",
      "source": [
        "with tf.GradientTape() as tape:\n",
        "  tape.watch(y) ## I want to calcualte gradient wrt y\n",
        "  f=tf.sqrt(tf.square(x) + tf.square(y))\n",
        "\n",
        "  df_dy = tape.gradient(f, y)\n",
        "\n",
        "  print(df_dy)"
      ],
      "metadata": {
        "colab": {
          "base_uri": "https://localhost:8080/"
        },
        "id": "mGvCSqctphik",
        "outputId": "dad62cbf-d3b3-4c8a-fd1c-570abea7ab3c"
      },
      "execution_count": 76,
      "outputs": [
        {
          "output_type": "stream",
          "name": "stdout",
          "text": [
            "tf.Tensor(\n",
            "[[ 0.86813617 -0.43658462]\n",
            " [-0.7063297  -0.37576678]], shape=(2, 2), dtype=float32)\n"
          ]
        }
      ]
    },
    {
      "cell_type": "code",
      "source": [
        "# tf.watch is only needed when X and Y are not variables but are constants\n",
        "with tf.GradientTape() as tape:\n",
        "  tape.watch(y) ## I want to calcualte gradient wrt y\n",
        "  tape.watch(x)## I want to calcualte grad wrt x\n",
        "  \n",
        "  f=tf.sqrt(tf.square(x) + tf.square(y))\n",
        "\n",
        "  df_dx, df_dy = tape.gradient(f, [x,y]) # partial diff wrt x and y\n",
        "\n",
        "  print(df_dx)\n",
        "  print(df_dy)"
      ],
      "metadata": {
        "colab": {
          "base_uri": "https://localhost:8080/"
        },
        "id": "U_5uy1hjqItB",
        "outputId": "0b1980d2-5c64-4ae5-ebff-edc73f92f959"
      },
      "execution_count": 77,
      "outputs": [
        {
          "output_type": "stream",
          "name": "stdout",
          "text": [
            "tf.Tensor(\n",
            "[[-0.49632618 -0.8996632 ]\n",
            " [ 0.707883    0.92671424]], shape=(2, 2), dtype=float32)\n",
            "tf.Tensor(\n",
            "[[ 0.86813617 -0.43658462]\n",
            " [-0.7063297  -0.37576678]], shape=(2, 2), dtype=float32)\n"
          ]
        }
      ]
    },
    {
      "cell_type": "code",
      "source": [
        "with tf.GradientTape() as tape:\n",
        "  \n",
        "  f=tf.sqrt(tf.square(x) + tf.square(y))\n",
        "\n",
        "  df_dx, df_dy = tape.gradient(f, [x,y]) # partial diff wrt x and y\n",
        "\n",
        "  print(df_dx)\n",
        "  print(df_dy)\n",
        "  "
      ],
      "metadata": {
        "colab": {
          "base_uri": "https://localhost:8080/"
        },
        "id": "Qxa0B510quof",
        "outputId": "840d5b6c-8ff1-47ab-f53e-5db742641201"
      },
      "execution_count": 78,
      "outputs": [
        {
          "output_type": "stream",
          "name": "stdout",
          "text": [
            "None\n",
            "None\n"
          ]
        }
      ]
    },
    {
      "cell_type": "code",
      "source": [
        "x = tf.Variable(tf.random.normal(shape=(2,2)))\n",
        "y = tf.Variable(tf.random.normal(shape=(2,2)))"
      ],
      "metadata": {
        "id": "PpBAs92OsgVb"
      },
      "execution_count": 79,
      "outputs": []
    },
    {
      "cell_type": "code",
      "source": [
        "with tf.GradientTape() as tape:\n",
        "  \n",
        "  f=tf.sqrt(tf.square(x) + tf.square(y))\n",
        "\n",
        "  df_dx, df_dy = tape.gradient(f, [x,y]) # partial diff wrt x and y\n",
        "\n",
        "  print(df_dx)\n",
        "  print(df_dy)"
      ],
      "metadata": {
        "colab": {
          "base_uri": "https://localhost:8080/"
        },
        "id": "fzACj8V7tfMJ",
        "outputId": "13dda232-03b1-4ad7-9fde-c63f475709ca"
      },
      "execution_count": 80,
      "outputs": [
        {
          "output_type": "stream",
          "name": "stdout",
          "text": [
            "tf.Tensor(\n",
            "[[ 0.6875171  -0.8699837 ]\n",
            " [-0.9973398   0.95206505]], shape=(2, 2), dtype=float32)\n",
            "tf.Tensor(\n",
            "[[ 0.7261682  -0.4930805 ]\n",
            " [-0.07289229  0.30589578]], shape=(2, 2), dtype=float32)\n"
          ]
        }
      ]
    },
    {
      "cell_type": "code",
      "source": [
        "x = tf.Variable(3.)\n",
        "y = tf.Variable(2.)"
      ],
      "metadata": {
        "id": "ZXd04FQAtirt"
      },
      "execution_count": 81,
      "outputs": []
    },
    {
      "cell_type": "code",
      "source": [
        "with tf.GradientTape() as tape:\n",
        "  \n",
        "  f=tf.sqrt(tf.square(x) + tf.square(y))\n",
        "\n",
        "  df_dx, df_dy = tape.gradient(f, [x,y]) # partial diff wrt x and y\n",
        "\n",
        "  print(df_dx)\n",
        "  print(df_dy)"
      ],
      "metadata": {
        "colab": {
          "base_uri": "https://localhost:8080/"
        },
        "id": "Ual5bMZ-0vWZ",
        "outputId": "4493ee6d-6d6f-469e-9341-67e7bb2c5843"
      },
      "execution_count": 82,
      "outputs": [
        {
          "output_type": "stream",
          "name": "stdout",
          "text": [
            "tf.Tensor(0.8320503, shape=(), dtype=float32)\n",
            "tf.Tensor(0.5547002, shape=(), dtype=float32)\n"
          ]
        }
      ]
    },
    {
      "cell_type": "code",
      "source": [
        "x/tf.sqrt(tf.square(x) + tf.square(y))"
      ],
      "metadata": {
        "colab": {
          "base_uri": "https://localhost:8080/"
        },
        "id": "Xt-IotmA0zhi",
        "outputId": "d7aaebe6-6f82-44b9-b900-823687f53a1e"
      },
      "execution_count": 83,
      "outputs": [
        {
          "output_type": "execute_result",
          "data": {
            "text/plain": [
              "<tf.Tensor: shape=(), dtype=float32, numpy=0.8320503>"
            ]
          },
          "metadata": {},
          "execution_count": 83
        }
      ]
    },
    {
      "cell_type": "code",
      "source": [
        "y/tf.sqrt(tf.square(x) + tf.square(y))"
      ],
      "metadata": {
        "colab": {
          "base_uri": "https://localhost:8080/"
        },
        "id": "ycyQKgMx1B0N",
        "outputId": "c2f6644b-af9e-4026-8c3d-1222faac4b81"
      },
      "execution_count": 84,
      "outputs": [
        {
          "output_type": "execute_result",
          "data": {
            "text/plain": [
              "<tf.Tensor: shape=(), dtype=float32, numpy=0.5547002>"
            ]
          },
          "metadata": {},
          "execution_count": 84
        }
      ]
    },
    {
      "cell_type": "markdown",
      "source": [
        "# Simple Linear Regression"
      ],
      "metadata": {
        "id": "t_ph2aTk1ktL"
      }
    },
    {
      "cell_type": "markdown",
      "source": [
        "$f(x) = W.x +b $"
      ],
      "metadata": {
        "id": "ot2QiTHH1o-T"
      }
    },
    {
      "cell_type": "code",
      "source": [
        "TRUE_W = 3.0\n",
        "TRUE_B = 2.0\n",
        "\n",
        "NUM_EXAMPLES = 1000\n",
        "\n",
        "x = tf.random.normal(shape=[NUM_EXAMPLES])\n"
      ],
      "metadata": {
        "id": "g8KWl2AH1Psh"
      },
      "execution_count": 85,
      "outputs": []
    },
    {
      "cell_type": "code",
      "source": [
        "noise = tf.random.normal(shape=[NUM_EXAMPLES])"
      ],
      "metadata": {
        "id": "q3k0Q-yY1_Ip"
      },
      "execution_count": 86,
      "outputs": []
    },
    {
      "cell_type": "code",
      "source": [
        "y = x*TRUE_W +TRUE_B +noise"
      ],
      "metadata": {
        "id": "X6HmXjA62GPx"
      },
      "execution_count": 87,
      "outputs": []
    },
    {
      "cell_type": "code",
      "source": [
        "import matplotlib.pyplot as plt\n",
        "\n",
        "plt.scatter(x,y,c=\"b\")\n",
        "plt.show()"
      ],
      "metadata": {
        "colab": {
          "base_uri": "https://localhost:8080/",
          "height": 430
        },
        "id": "YAHMggOM2NHF",
        "outputId": "0a2326e9-0ead-4c18-fac9-1edf6d027925"
      },
      "execution_count": 88,
      "outputs": [
        {
          "output_type": "display_data",
          "data": {
            "text/plain": [
              "<Figure size 640x480 with 1 Axes>"
            ],
            "image/png": "[encoded data removed]"
          },
          "metadata": {}
        }
      ]
    },
    {
      "cell_type": "markdown",
      "source": [
        "# Lets define a model"
      ],
      "metadata": {
        "id": "TGN5RCQH2eUE"
      }
    },
    {
      "cell_type": "code",
      "source": [
        "class MyModel(tf.Module):\n",
        "  def __init__(self, **kwargs):\n",
        "    super().__init__(**kwargs)\n",
        "\n",
        "    # initial weights\n",
        "    self.w = tf.Variable(5.0)\n",
        "    self.b = tf.Variable(0.0)\n",
        "\n",
        "  def __call__(self, x):\n",
        "    return self.w*x + self.b\n",
        "\n"
      ],
      "metadata": {
        "id": "ZsHZR7dY2Uwp"
      },
      "execution_count": 89,
      "outputs": []
    },
    {
      "cell_type": "code",
      "source": [
        "class Test:\n",
        "  def __init__(self, x):\n",
        "    self.x = x\n",
        "\n",
        "  def __call__(self):\n",
        "    return self.x**3"
      ],
      "metadata": {
        "id": "VKTvtUpSF-to"
      },
      "execution_count": 90,
      "outputs": []
    },
    {
      "cell_type": "code",
      "source": [
        "obj= Test(5)\n",
        "obj()"
      ],
      "metadata": {
        "colab": {
          "base_uri": "https://localhost:8080/"
        },
        "id": "QfsANlV9GPXT",
        "outputId": "dab8cc35-e7ad-4d71-9536-466e7bad56bd"
      },
      "execution_count": 91,
      "outputs": [
        {
          "output_type": "execute_result",
          "data": {
            "text/plain": [
              "125"
            ]
          },
          "metadata": {},
          "execution_count": 91
        }
      ]
    },
    {
      "cell_type": "code",
      "source": [
        "model= MyModel()"
      ],
      "metadata": {
        "id": "XmlzJeM6GTT6"
      },
      "execution_count": 92,
      "outputs": []
    },
    {
      "cell_type": "code",
      "source": [
        "model(3)"
      ],
      "metadata": {
        "colab": {
          "base_uri": "https://localhost:8080/"
        },
        "id": "mrI0W-vRGgKx",
        "outputId": "b72ee728-0f29-475c-e67c-a41b141ca7bb"
      },
      "execution_count": 93,
      "outputs": [
        {
          "output_type": "execute_result",
          "data": {
            "text/plain": [
              "<tf.Tensor: shape=(), dtype=float32, numpy=15.0>"
            ]
          },
          "metadata": {},
          "execution_count": 93
        }
      ]
    },
    {
      "cell_type": "code",
      "source": [
        "model.w"
      ],
      "metadata": {
        "colab": {
          "base_uri": "https://localhost:8080/"
        },
        "id": "DJFScNP0GjKG",
        "outputId": "4ed91dce-443e-437a-b5bc-c812058881c5"
      },
      "execution_count": 94,
      "outputs": [
        {
          "output_type": "execute_result",
          "data": {
            "text/plain": [
              "<tf.Variable 'Variable:0' shape=() dtype=float32, numpy=5.0>"
            ]
          },
          "metadata": {},
          "execution_count": 94
        }
      ]
    },
    {
      "cell_type": "code",
      "source": [
        "model.b"
      ],
      "metadata": {
        "colab": {
          "base_uri": "https://localhost:8080/"
        },
        "id": "18KNvbyFGlP6",
        "outputId": "786ddf00-2f60-49ed-d91b-c2b1cbbc0102"
      },
      "execution_count": 95,
      "outputs": [
        {
          "output_type": "execute_result",
          "data": {
            "text/plain": [
              "<tf.Variable 'Variable:0' shape=() dtype=float32, numpy=0.0>"
            ]
          },
          "metadata": {},
          "execution_count": 95
        }
      ]
    },
    {
      "cell_type": "code",
      "source": [
        "model.variables"
      ],
      "metadata": {
        "colab": {
          "base_uri": "https://localhost:8080/"
        },
        "id": "H2PFJoVpGm8i",
        "outputId": "fb0234d5-847b-46ce-a7df-709932373ab6"
      },
      "execution_count": 96,
      "outputs": [
        {
          "output_type": "execute_result",
          "data": {
            "text/plain": [
              "(<tf.Variable 'Variable:0' shape=() dtype=float32, numpy=0.0>,\n",
              " <tf.Variable 'Variable:0' shape=() dtype=float32, numpy=5.0>)"
            ]
          },
          "metadata": {},
          "execution_count": 96
        }
      ]
    },
    {
      "cell_type": "markdown",
      "source": [
        "#define loss function"
      ],
      "metadata": {
        "id": "2r_4ubizGu8B"
      }
    },
    {
      "cell_type": "code",
      "source": [
        "def MSE_loss(target_y, predicted_y):\n",
        "  error = target_y - predicted_y\n",
        "  squared_error = tf.square(error)\n",
        "  mse = tf.reduce_mean(squared_error)\n",
        "  return mse"
      ],
      "metadata": {
        "id": "StQCLjP4GoH9"
      },
      "execution_count": 97,
      "outputs": []
    },
    {
      "cell_type": "code",
      "source": [
        "plt.scatter(x, y, c=\"b\")\n",
        "pred_y = model(x) # without training \n",
        "plt.scatter(x, pred_y, c=\"r\")\n",
        "plt.show()"
      ],
      "metadata": {
        "colab": {
          "base_uri": "https://localhost:8080/",
          "height": 430
        },
        "id": "RhSINFcqHLLd",
        "outputId": "fc0f3d01-c5e1-4114-b6f5-4bd61c695dda"
      },
      "execution_count": 98,
      "outputs": [
        {
          "output_type": "display_data",
          "data": {
            "text/plain": [
              "<Figure size 640x480 with 1 Axes>"
            ],
            "image/png": "[encoded data removed]"
          },
          "metadata": {}
        }
      ]
    },
    {
      "cell_type": "code",
      "source": [
        "current_loss = MSE_loss(y, model(x))\n",
        "current_loss.numpy()"
      ],
      "metadata": {
        "colab": {
          "base_uri": "https://localhost:8080/"
        },
        "id": "lMAPINqtHa-j",
        "outputId": "b6ef7c99-fd45-48f7-ab49-9fb360bfa276"
      },
      "execution_count": 99,
      "outputs": [
        {
          "output_type": "execute_result",
          "data": {
            "text/plain": [
              "9.368621"
            ]
          },
          "metadata": {},
          "execution_count": 99
        }
      ]
    },
    {
      "cell_type": "markdown",
      "source": [
        "# Training function def"
      ],
      "metadata": {
        "id": "JN5cDbNOHySG"
      }
    },
    {
      "cell_type": "code",
      "source": [
        "def train(model, x, y, learning_rate):\n",
        "\n",
        "  with tf.GradientTape() as tape:\n",
        "    current_loss = MSE_loss(y, model(x))\n",
        "\n",
        "  dc_dw,dc_db = tape.gradient(current_loss,[model.w, model.b])\n",
        "\n",
        "  model.w.assign_sub(learning_rate * dc_dw)\n",
        "  model.b.assign_sub(learning_rate * dc_db)\n"
      ],
      "metadata": {
        "id": "QkHZ2GU0HvnG"
      },
      "execution_count": 108,
      "outputs": []
    },
    {
      "cell_type": "code",
      "source": [
        "model = MyModel()\n",
        "\n",
        "Ws, bs = [], []\n",
        "\n",
        "epochs = 10\n",
        "learning_rate = 0.1\n",
        "\n",
        "w = model.w.numpy()\n",
        "b = model.b.numpy()\n",
        "\n",
        "init_loss = MSE_loss(y, model(x)).numpy()\n",
        "\n",
        "print(f\"Initial W: {w}, Initial bias: {b}, initial_loss: {init_loss}\")"
      ],
      "metadata": {
        "colab": {
          "base_uri": "https://localhost:8080/"
        },
        "id": "j-tQm-U_PNAK",
        "outputId": "3bdc926e-4d17-4e38-9ff1-fa824843cde9"
      },
      "execution_count": 109,
      "outputs": [
        {
          "output_type": "stream",
          "name": "stdout",
          "text": [
            "Initial W: 5.0, Initial bias: 0.0, initial_loss: 9.368620872497559\n"
          ]
        }
      ]
    },
    {
      "cell_type": "code",
      "source": [
        "for epoch in range(epochs):\n",
        "  train(model, x, y, learning_rate)\n",
        "\n",
        "  Ws.append(model.w.numpy())\n",
        "  bs.append(model.b.numpy())\n",
        "\n",
        "  current_loss= MSE_loss(y, model(x))\n",
        "\n",
        "  print(f\"For epoch:{epoch}, W: {Ws[-1]}, b :{bs[-1]}, current_loss: {current_loss}\")"
      ],
      "metadata": {
        "colab": {
          "base_uri": "https://localhost:8080/"
        },
        "id": "seqWzJx2P_6S",
        "outputId": "9faf2fb7-a712-4761-ea7a-26fd3c979a72"
      },
      "execution_count": 110,
      "outputs": [
        {
          "output_type": "stream",
          "name": "stdout",
          "text": [
            "For epoch:0, W: 4.570694446563721, b :0.40427181124687195, current_loss: 6.253841876983643\n",
            "For epoch:1, W: 4.233546733856201, b :0.7270194292068481, current_loss: 4.302529335021973\n",
            "For epoch:2, W: 3.9687819480895996, b :0.9846915006637573, current_loss: 3.0797622203826904\n",
            "For epoch:3, W: 3.760866641998291, b :1.1904159784317017, current_loss: 2.3133203983306885\n",
            "For epoch:4, W: 3.597599506378174, b :1.3546711206436157, current_loss: 1.8327744007110596\n",
            "For epoch:5, W: 3.4693968296051025, b :1.4858205318450928, current_loss: 1.531396508216858\n",
            "For epoch:6, W: 3.3687312602996826, b :1.5905399322509766, current_loss: 1.3423322439193726\n",
            "For epoch:7, W: 3.2896909713745117, b :1.6741584539413452, current_loss: 1.223692774772644\n",
            "For epoch:8, W: 3.2276322841644287, b :1.7409299612045288, current_loss: 1.1492241621017456\n",
            "For epoch:9, W: 3.178908586502075, b :1.794250249862671, current_loss: 1.1024678945541382\n"
          ]
        }
      ]
    },
    {
      "cell_type": "code",
      "source": [
        "plt.plot(range(epochs), Ws, \"r\", range(epochs), bs, \"b\")\n",
        "\n",
        "plt.plot([TRUE_W] * epochs, \"r--\", [TRUE_B] * epochs, \"b--\")\n",
        "\n",
        "plt.legend([\"W\", \"b\", \"True W\", \"True B\"])\n",
        "\n",
        "plt.show()"
      ],
      "metadata": {
        "colab": {
          "base_uri": "https://localhost:8080/",
          "height": 430
        },
        "id": "lHB8YkUOREyP",
        "outputId": "11022f9e-5b82-41d3-87a1-b222de55916d"
      },
      "execution_count": 111,
      "outputs": [
        {
          "output_type": "display_data",
          "data": {
            "text/plain": [
              "<Figure size 640x480 with 1 Axes>"
            ],
            "image/png": "[encoded data removed]"
          },
          "metadata": {}
        }
      ]
    },
    {
      "cell_type": "code",
      "source": [
        "plt.scatter(x, y, c=\"b\")\n",
        "pred_y = model(x) # with training \n",
        "plt.scatter(x, pred_y, c=\"r\")\n",
        "plt.show()"
      ],
      "metadata": {
        "colab": {
          "base_uri": "https://localhost:8080/",
          "height": 433
        },
        "id": "z0AqZhhXSORa",
        "outputId": "c4495ba2-7085-4756-8811-c1eabe82307c"
      },
      "execution_count": 112,
      "outputs": [
        {
          "output_type": "display_data",
          "data": {
            "text/plain": [
              "<Figure size 640x480 with 1 Axes>"
            ],
            "image/png": "[encoded data removed]"
          },
          "metadata": {}
        }
      ]
    },
    {
      "cell_type": "code",
      "source": [],
      "metadata": {
        "id": "vxjEJR9dTgZI"
      },
      "execution_count": null,
      "outputs": []
    }
  ]
}